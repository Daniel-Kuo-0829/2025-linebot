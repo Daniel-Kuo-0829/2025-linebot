{
 "cells": [
  {
   "cell_type": "code",
   "execution_count": 14,
   "metadata": {},
   "outputs": [
    {
     "name": "stderr",
     "output_type": "stream",
     "text": [
      "此電腦上已停用 Sudo。若要啟用，請移至 \u001b]8;;ms-settings:developers\u001b\\Developer Settings page\u001b]8;;\u001b\\[設定] 應用程式中的\n"
     ]
    }
   ],
   "source": [
    "# 在linux及mac之下執行這個刪除原來行程\n",
    "\n",
    "!sudo kill -9 \"$(pgrep ngrok)\""
   ]
  },
  {
   "cell_type": "code",
   "execution_count": 15,
   "metadata": {},
   "outputs": [],
   "source": [
    "import os\n",
    "from pyngrok import ngrok"
   ]
  },
  {
   "cell_type": "code",
   "execution_count": 16,
   "metadata": {},
   "outputs": [],
   "source": [
    "ngrok_key = os.environ.get('NGROK_KEY')\n",
    "port = 5000"
   ]
  },
  {
   "cell_type": "code",
   "execution_count": 17,
   "metadata": {},
   "outputs": [
    {
     "name": "stdout",
     "output_type": "stream",
     "text": [
      "https://67fd-163-14-219-51.ngrok-free.app\n"
     ]
    }
   ],
   "source": [
    "ngrok.set_auth_token(ngrok_key)\n",
    "tunnel = ngrok.connect(5000, name=\"linebot_tunnel\")\n",
    "print(tunnel.public_url)"
   ]
  },
  {
   "cell_type": "code",
   "execution_count": 13,
   "metadata": {},
   "outputs": [],
   "source": [
    "ngrok.disconnect(tunnel.public_url)"
   ]
  }
 ],
 "metadata": {
  "kernelspec": {
   "display_name": "linebot",
   "language": "python",
   "name": "python3"
  },
  "language_info": {
   "codemirror_mode": {
    "name": "ipython",
    "version": 3
   },
   "file_extension": ".py",
   "mimetype": "text/x-python",
   "name": "python",
   "nbconvert_exporter": "python",
   "pygments_lexer": "ipython3",
   "version": "3.12.7"
  }
 },
 "nbformat": 4,
 "nbformat_minor": 2
}
