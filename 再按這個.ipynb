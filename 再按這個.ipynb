{
 "cells": [
  {
   "cell_type": "code",
   "execution_count": 1,
   "metadata": {},
   "outputs": [],
   "source": [
    "import os\n",
    "line_access_token = os.environ.get('LINE_CHANNEL_ACCESS_TOKEN')\n",
    "line_secret = os.environ.get('LINE_CHANNEL_SECRET')\n",
    "port = 5000"
   ]
  },
  {
   "cell_type": "code",
   "execution_count": 1,
   "metadata": {},
   "outputs": [
    {
     "name": "stdout",
     "output_type": "stream",
     "text": [
      "Requirement already satisfied: line-bot-sdk in c:\\users\\danie\\miniconda3\\envs\\linebot\\lib\\site-packages (3.14.2)\n",
      "Requirement already satisfied: requests<3,>=2.32.3 in c:\\users\\danie\\miniconda3\\envs\\linebot\\lib\\site-packages (from line-bot-sdk) (2.32.3)\n",
      "Requirement already satisfied: urllib3<3,>=2.0.5 in c:\\users\\danie\\miniconda3\\envs\\linebot\\lib\\site-packages (from line-bot-sdk) (2.2.3)\n",
      "Requirement already satisfied: aiohttp>=3.10.9 in c:\\users\\danie\\miniconda3\\envs\\linebot\\lib\\site-packages (from line-bot-sdk) (3.11.3)\n",
      "Requirement already satisfied: future in c:\\users\\danie\\miniconda3\\envs\\linebot\\lib\\site-packages (from line-bot-sdk) (1.0.0)\n",
      "Requirement already satisfied: pydantic<3,>=2.0.3 in c:\\users\\danie\\miniconda3\\envs\\linebot\\lib\\site-packages (from line-bot-sdk) (2.9.2)\n",
      "Requirement already satisfied: aenum>=3.1.11 in c:\\users\\danie\\miniconda3\\envs\\linebot\\lib\\site-packages (from line-bot-sdk) (3.1.15)\n",
      "Requirement already satisfied: python-dateutil>=2.5.3 in c:\\users\\danie\\miniconda3\\envs\\linebot\\lib\\site-packages (from line-bot-sdk) (2.9.0.post0)\n",
      "Requirement already satisfied: Deprecated in c:\\users\\danie\\miniconda3\\envs\\linebot\\lib\\site-packages (from line-bot-sdk) (1.2.15)\n",
      "Requirement already satisfied: aiohappyeyeballs>=2.3.0 in c:\\users\\danie\\miniconda3\\envs\\linebot\\lib\\site-packages (from aiohttp>=3.10.9->line-bot-sdk) (2.4.3)\n",
      "Requirement already satisfied: aiosignal>=1.1.2 in c:\\users\\danie\\miniconda3\\envs\\linebot\\lib\\site-packages (from aiohttp>=3.10.9->line-bot-sdk) (1.3.1)\n",
      "Requirement already satisfied: attrs>=17.3.0 in c:\\users\\danie\\miniconda3\\envs\\linebot\\lib\\site-packages (from aiohttp>=3.10.9->line-bot-sdk) (24.2.0)\n",
      "Requirement already satisfied: frozenlist>=1.1.1 in c:\\users\\danie\\miniconda3\\envs\\linebot\\lib\\site-packages (from aiohttp>=3.10.9->line-bot-sdk) (1.5.0)\n",
      "Requirement already satisfied: multidict<7.0,>=4.5 in c:\\users\\danie\\miniconda3\\envs\\linebot\\lib\\site-packages (from aiohttp>=3.10.9->line-bot-sdk) (6.1.0)\n",
      "Requirement already satisfied: propcache>=0.2.0 in c:\\users\\danie\\miniconda3\\envs\\linebot\\lib\\site-packages (from aiohttp>=3.10.9->line-bot-sdk) (0.2.0)\n",
      "Requirement already satisfied: yarl<2.0,>=1.17.0 in c:\\users\\danie\\miniconda3\\envs\\linebot\\lib\\site-packages (from aiohttp>=3.10.9->line-bot-sdk) (1.17.2)\n",
      "Requirement already satisfied: annotated-types>=0.6.0 in c:\\users\\danie\\miniconda3\\envs\\linebot\\lib\\site-packages (from pydantic<3,>=2.0.3->line-bot-sdk) (0.7.0)\n",
      "Requirement already satisfied: pydantic-core==2.23.4 in c:\\users\\danie\\miniconda3\\envs\\linebot\\lib\\site-packages (from pydantic<3,>=2.0.3->line-bot-sdk) (2.23.4)\n",
      "Requirement already satisfied: typing-extensions>=4.6.1 in c:\\users\\danie\\miniconda3\\envs\\linebot\\lib\\site-packages (from pydantic<3,>=2.0.3->line-bot-sdk) (4.12.2)\n",
      "Requirement already satisfied: six>=1.5 in c:\\users\\danie\\miniconda3\\envs\\linebot\\lib\\site-packages (from python-dateutil>=2.5.3->line-bot-sdk) (1.16.0)\n",
      "Requirement already satisfied: charset-normalizer<4,>=2 in c:\\users\\danie\\miniconda3\\envs\\linebot\\lib\\site-packages (from requests<3,>=2.32.3->line-bot-sdk) (3.4.0)\n",
      "Requirement already satisfied: idna<4,>=2.5 in c:\\users\\danie\\miniconda3\\envs\\linebot\\lib\\site-packages (from requests<3,>=2.32.3->line-bot-sdk) (3.10)\n",
      "Requirement already satisfied: certifi>=2017.4.17 in c:\\users\\danie\\miniconda3\\envs\\linebot\\lib\\site-packages (from requests<3,>=2.32.3->line-bot-sdk) (2024.8.30)\n",
      "Requirement already satisfied: wrapt<2,>=1.10 in c:\\users\\danie\\miniconda3\\envs\\linebot\\lib\\site-packages (from Deprecated->line-bot-sdk) (1.16.0)\n",
      "Note: you may need to restart the kernel to use updated packages.\n"
     ]
    }
   ],
   "source": [
    "pip install line-bot-sdk\n"
   ]
  },
  {
   "cell_type": "code",
   "execution_count": null,
   "metadata": {},
   "outputs": [
    {
     "name": "stdout",
     "output_type": "stream",
     "text": [
      " * Serving Flask app '__main__'\n",
      " * Debug mode: off\n"
     ]
    },
    {
     "name": "stderr",
     "output_type": "stream",
     "text": [
      "WARNING: This is a development server. Do not use it in a production deployment. Use a production WSGI server instead.\n",
      " * Running on http://127.0.0.1:5000\n",
      "Press CTRL+C to quit\n",
      "127.0.0.1 - - [17/May/2025 08:31:02] \"POST / HTTP/1.1\" 200 -\n"
     ]
    },
    {
     "name": "stdout",
     "output_type": "stream",
     "text": [
      "BODY:  {\"destination\":\"U4af8225b3ff2889a958695372a6ff69a\",\"events\":[]}\n"
     ]
    }
   ],
   "source": [
    "import os\n",
    "from flask import Flask, request, abort\n",
    "from linebot import LineBotApi, WebhookHandler\n",
    "from linebot.models import MessageEvent, TextMessage, TextSendMessage\n",
    "from dotenv import load_dotenv\n",
    "from linebot.configuration import Configuration\n",
    "\n",
    "# 使用 Configuration 進行初始化\n",
    "configuration = Configuration(access_token=line_access_token)\n",
    "line_bot_api = LineBotApi(configuration=configuration)\n",
    "handler = WebhookHandler(line_secret)\n",
    "\n",
    "app = Flask(__name__)\n",
    "\n",
    "# 台灣所有縣市的代碼\n",
    "cities = {\n",
    "    \"台北\": \"6300100\",\n",
    "    \"新北\": \"6500100\",\n",
    "    \"基隆\": \"1001701\",\n",
    "    \"桃園\": \"6800100\",\n",
    "    \"新竹市\": \"1001801\",\n",
    "    \"新竹縣\": \"1000401\",\n",
    "    \"苗栗\": \"1000501\",\n",
    "    \"台中\": \"6600100\",\n",
    "    \"彰化\": \"1000701\",\n",
    "    \"南投\": \"1000801\",\n",
    "    \"雲林\": \"1000901\",\n",
    "    \"嘉義市\": \"1002001\",\n",
    "    \"嘉義縣\": \"1001001\",\n",
    "    \"台南\": \"6700100\",\n",
    "    \"高雄\": \"6400100\",\n",
    "    \"屏東\": \"1001301\",\n",
    "    \"宜蘭\": \"1000201\",\n",
    "    \"花蓮\": \"1001501\",\n",
    "    \"台東\": \"1001401\",\n",
    "    \"澎湖\": \"1001601\",\n",
    "    \"金門\": \"0902001\",\n",
    "    \"連江\": \"0900701\"\n",
    "}\n",
    "\n",
    "@app.route(\"/callback\", methods=['POST'])\n",
    "def callback():\n",
    "    signature = request.headers['X-Line-Signature']\n",
    "    body = request.get_data(as_text=True)\n",
    "    \n",
    "    try:\n",
    "        handler.handle(body, signature)\n",
    "    except Exception as e:\n",
    "        print(f\"Error: {e}\")\n",
    "        abort(400)\n",
    "    return 'OK'\n",
    "\n",
    "# 處理文字訊息\n",
    "@handler.add(MessageEvent, message=TextMessage)\n",
    "def handle_message(event):\n",
    "    user_message = event.message.text.strip()\n",
    "    \n",
    "    if user_message == \"選擇城市\":\n",
    "        reply_text = (\n",
    "            \"請選擇想去的城市：\\n\"\n",
    "            \"台北、新北、基隆、桃園、新竹市、新竹縣、苗栗、台中、彰化、南投、雲林、嘉義市、嘉義縣、\\n\"\n",
    "            \"台南、高雄、屏東、宜蘭、花蓮、台東、澎湖、金門、連江\"\n",
    "        )\n",
    "    \n",
    "    elif user_message in cities:\n",
    "        city_code = cities[user_message]\n",
    "        weather_url = f\"https://www.cwb.gov.tw/V8/C/W/Town/Town.html?TID={city_code}\"\n",
    "        traffic_info = f\"https://maps.google.com/?q={user_message}交通\"\n",
    "        \n",
    "        reply_text = (\n",
    "            f\"{user_message} 的天氣：\\n{weather_url}\\n\\n\"\n",
    "            f\"即時路況：\\n{traffic_info}\"\n",
    "        )\n",
    "    \n",
    "    else:\n",
    "        reply_text = \"請輸入正確的城市名稱或輸入「選擇城市」查看支援的城市。\"\n",
    "\n",
    "    # 回傳訊息\n",
    "    line_bot_api.reply_message(\n",
    "        event.reply_token,\n",
    "        TextSendMessage(text=reply_text)\n",
    "    )\n",
    "\n",
    "if __name__ == \"__main__\":\n",
    "    app.run(port=8000)\n"
   ]
  }
 ],
 "metadata": {
  "kernelspec": {
   "display_name": "linebot",
   "language": "python",
   "name": "python3"
  },
  "language_info": {
   "codemirror_mode": {
    "name": "ipython",
    "version": 3
   },
   "file_extension": ".py",
   "mimetype": "text/x-python",
   "name": "python",
   "nbconvert_exporter": "python",
   "pygments_lexer": "ipython3",
   "version": "3.12.7"
  }
 },
 "nbformat": 4,
 "nbformat_minor": 2
}
