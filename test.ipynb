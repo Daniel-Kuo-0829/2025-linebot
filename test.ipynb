{
 "cells": [
  {
   "cell_type": "code",
   "execution_count": 1,
   "id": "d9f02b25",
   "metadata": {},
   "outputs": [
    {
     "name": "stdout",
     "output_type": "stream",
     "text": [
      "Requirement already satisfied: line-bot-sdk in c:\\users\\danie\\miniconda3\\envs\\linebot\\lib\\site-packages (3.14.2)\n",
      "Requirement already satisfied: requests<3,>=2.32.3 in c:\\users\\danie\\miniconda3\\envs\\linebot\\lib\\site-packages (from line-bot-sdk) (2.32.3)\n",
      "Requirement already satisfied: urllib3<3,>=2.0.5 in c:\\users\\danie\\miniconda3\\envs\\linebot\\lib\\site-packages (from line-bot-sdk) (2.2.3)\n",
      "Requirement already satisfied: aiohttp>=3.10.9 in c:\\users\\danie\\miniconda3\\envs\\linebot\\lib\\site-packages (from line-bot-sdk) (3.11.3)\n",
      "Requirement already satisfied: future in c:\\users\\danie\\miniconda3\\envs\\linebot\\lib\\site-packages (from line-bot-sdk) (1.0.0)\n",
      "Requirement already satisfied: pydantic<3,>=2.0.3 in c:\\users\\danie\\miniconda3\\envs\\linebot\\lib\\site-packages (from line-bot-sdk) (2.9.2)\n",
      "Requirement already satisfied: aenum>=3.1.11 in c:\\users\\danie\\miniconda3\\envs\\linebot\\lib\\site-packages (from line-bot-sdk) (3.1.15)\n",
      "Requirement already satisfied: python-dateutil>=2.5.3 in c:\\users\\danie\\miniconda3\\envs\\linebot\\lib\\site-packages (from line-bot-sdk) (2.9.0.post0)\n",
      "Requirement already satisfied: Deprecated in c:\\users\\danie\\miniconda3\\envs\\linebot\\lib\\site-packages (from line-bot-sdk) (1.2.15)\n",
      "Requirement already satisfied: aiohappyeyeballs>=2.3.0 in c:\\users\\danie\\miniconda3\\envs\\linebot\\lib\\site-packages (from aiohttp>=3.10.9->line-bot-sdk) (2.4.3)\n",
      "Requirement already satisfied: aiosignal>=1.1.2 in c:\\users\\danie\\miniconda3\\envs\\linebot\\lib\\site-packages (from aiohttp>=3.10.9->line-bot-sdk) (1.3.1)\n",
      "Requirement already satisfied: attrs>=17.3.0 in c:\\users\\danie\\miniconda3\\envs\\linebot\\lib\\site-packages (from aiohttp>=3.10.9->line-bot-sdk) (24.2.0)\n",
      "Requirement already satisfied: frozenlist>=1.1.1 in c:\\users\\danie\\miniconda3\\envs\\linebot\\lib\\site-packages (from aiohttp>=3.10.9->line-bot-sdk) (1.5.0)\n",
      "Requirement already satisfied: multidict<7.0,>=4.5 in c:\\users\\danie\\miniconda3\\envs\\linebot\\lib\\site-packages (from aiohttp>=3.10.9->line-bot-sdk) (6.1.0)\n",
      "Requirement already satisfied: propcache>=0.2.0 in c:\\users\\danie\\miniconda3\\envs\\linebot\\lib\\site-packages (from aiohttp>=3.10.9->line-bot-sdk) (0.2.0)\n",
      "Requirement already satisfied: yarl<2.0,>=1.17.0 in c:\\users\\danie\\miniconda3\\envs\\linebot\\lib\\site-packages (from aiohttp>=3.10.9->line-bot-sdk) (1.17.2)\n",
      "Requirement already satisfied: annotated-types>=0.6.0 in c:\\users\\danie\\miniconda3\\envs\\linebot\\lib\\site-packages (from pydantic<3,>=2.0.3->line-bot-sdk) (0.7.0)\n",
      "Requirement already satisfied: pydantic-core==2.23.4 in c:\\users\\danie\\miniconda3\\envs\\linebot\\lib\\site-packages (from pydantic<3,>=2.0.3->line-bot-sdk) (2.23.4)\n",
      "Requirement already satisfied: typing-extensions>=4.6.1 in c:\\users\\danie\\miniconda3\\envs\\linebot\\lib\\site-packages (from pydantic<3,>=2.0.3->line-bot-sdk) (4.12.2)\n",
      "Requirement already satisfied: six>=1.5 in c:\\users\\danie\\miniconda3\\envs\\linebot\\lib\\site-packages (from python-dateutil>=2.5.3->line-bot-sdk) (1.16.0)\n",
      "Requirement already satisfied: charset-normalizer<4,>=2 in c:\\users\\danie\\miniconda3\\envs\\linebot\\lib\\site-packages (from requests<3,>=2.32.3->line-bot-sdk) (3.4.0)\n",
      "Requirement already satisfied: idna<4,>=2.5 in c:\\users\\danie\\miniconda3\\envs\\linebot\\lib\\site-packages (from requests<3,>=2.32.3->line-bot-sdk) (3.10)\n",
      "Requirement already satisfied: certifi>=2017.4.17 in c:\\users\\danie\\miniconda3\\envs\\linebot\\lib\\site-packages (from requests<3,>=2.32.3->line-bot-sdk) (2024.8.30)\n",
      "Requirement already satisfied: wrapt<2,>=1.10 in c:\\users\\danie\\miniconda3\\envs\\linebot\\lib\\site-packages (from Deprecated->line-bot-sdk) (1.16.0)\n",
      "Note: you may need to restart the kernel to use updated packages.\n"
     ]
    }
   ],
   "source": [
    "pip install line-bot-sdk"
   ]
  },
  {
   "cell_type": "code",
   "execution_count": 2,
   "id": "6fd575e8",
   "metadata": {},
   "outputs": [
    {
     "name": "stdout",
     "output_type": "stream",
     "text": [
      "Requirement already satisfied: pandas in c:\\users\\danie\\miniconda3\\envs\\linebot\\lib\\site-packages (2.2.3)\n",
      "Requirement already satisfied: numpy>=1.26.0 in c:\\users\\danie\\miniconda3\\envs\\linebot\\lib\\site-packages (from pandas) (2.2.6)\n",
      "Requirement already satisfied: python-dateutil>=2.8.2 in c:\\users\\danie\\miniconda3\\envs\\linebot\\lib\\site-packages (from pandas) (2.9.0.post0)\n",
      "Requirement already satisfied: pytz>=2020.1 in c:\\users\\danie\\miniconda3\\envs\\linebot\\lib\\site-packages (from pandas) (2025.2)\n",
      "Requirement already satisfied: tzdata>=2022.7 in c:\\users\\danie\\miniconda3\\envs\\linebot\\lib\\site-packages (from pandas) (2025.2)\n",
      "Requirement already satisfied: six>=1.5 in c:\\users\\danie\\miniconda3\\envs\\linebot\\lib\\site-packages (from python-dateutil>=2.8.2->pandas) (1.16.0)\n",
      "Note: you may need to restart the kernel to use updated packages.\n"
     ]
    }
   ],
   "source": [
    "pip install pandas"
   ]
  },
  {
   "cell_type": "code",
   "execution_count": 9,
   "id": "66b0de40",
   "metadata": {},
   "outputs": [
    {
     "name": "stdout",
     "output_type": "stream",
     "text": [
      " * Serving Flask app '__main__'\n",
      " * Debug mode: off\n"
     ]
    },
    {
     "name": "stderr",
     "output_type": "stream",
     "text": [
      "WARNING: This is a development server. Do not use it in a production deployment. Use a production WSGI server instead.\n",
      " * Running on http://127.0.0.1:5000\n",
      "Press CTRL+C to quit\n",
      "127.0.0.1 - - [19/May/2025 22:40:07] \"POST / HTTP/1.1\" 200 -\n",
      "127.0.0.1 - - [19/May/2025 22:40:13] \"POST / HTTP/1.1\" 400 -\n"
     ]
    },
    {
     "name": "stdout",
     "output_type": "stream",
     "text": [
      "Error: cannot access local variable 'reply_text' where it is not associated with a value\n"
     ]
    },
    {
     "name": "stderr",
     "output_type": "stream",
     "text": [
      "127.0.0.1 - - [19/May/2025 22:40:16] \"POST / HTTP/1.1\" 400 -\n"
     ]
    },
    {
     "name": "stdout",
     "output_type": "stream",
     "text": [
      "Error: 1 validation error for TextMessage\n",
      "text\n",
      "  str type expected (type=type_error.str)\n"
     ]
    },
    {
     "name": "stderr",
     "output_type": "stream",
     "text": [
      "127.0.0.1 - - [19/May/2025 22:40:38] \"POST / HTTP/1.1\" 200 -\n",
      "127.0.0.1 - - [19/May/2025 22:40:44] \"POST / HTTP/1.1\" 200 -\n",
      "127.0.0.1 - - [19/May/2025 22:40:47] \"POST / HTTP/1.1\" 400 -\n"
     ]
    },
    {
     "name": "stdout",
     "output_type": "stream",
     "text": [
      "Error: 1 validation error for TextMessage\n",
      "text\n",
      "  str type expected (type=type_error.str)\n"
     ]
    },
    {
     "name": "stderr",
     "output_type": "stream",
     "text": [
      "127.0.0.1 - - [19/May/2025 22:40:50] \"POST / HTTP/1.1\" 400 -\n"
     ]
    },
    {
     "name": "stdout",
     "output_type": "stream",
     "text": [
      "Error: cannot access local variable 'reply_text' where it is not associated with a value\n"
     ]
    },
    {
     "name": "stderr",
     "output_type": "stream",
     "text": [
      "127.0.0.1 - - [19/May/2025 22:40:52] \"POST / HTTP/1.1\" 400 -\n"
     ]
    },
    {
     "name": "stdout",
     "output_type": "stream",
     "text": [
      "Error: cannot access local variable 'reply_text' where it is not associated with a value\n"
     ]
    },
    {
     "name": "stderr",
     "output_type": "stream",
     "text": [
      "127.0.0.1 - - [19/May/2025 22:40:55] \"POST / HTTP/1.1\" 400 -\n"
     ]
    },
    {
     "name": "stdout",
     "output_type": "stream",
     "text": [
      "Error: cannot access local variable 'reply_text' where it is not associated with a value\n"
     ]
    }
   ],
   "source": [
    "from flask import Flask, request, abort\n",
    "from linebot.v3 import (\n",
    "    WebhookHandler\n",
    ")\n",
    "from linebot.v3.exceptions import (\n",
    "    InvalidSignatureError\n",
    ")\n",
    "from linebot.v3.messaging import (\n",
    "    Configuration,\n",
    "    ApiClient,\n",
    "    MessagingApi,\n",
    "    ReplyMessageRequest,\n",
    "    TextMessage,    \n",
    ")\n",
    "from linebot.v3.webhooks import (\n",
    "    MessageEvent,\n",
    "    TextMessageContent,\n",
    ")\n",
    "import pandas as pd\n",
    "import os\n",
    "from linebot.v3.messaging import (\n",
    "    FlexMessage, MessageAction\n",
    ")\n",
    "\n",
    "# 從環境變數中獲取 Token 和 Secret\n",
    "line_access_token = os.environ.get('LINE_ACCESS_TOKEN')\n",
    "line_secret = os.environ.get('LINE_SECRET')\n",
    "\n",
    "# 初始化 Flask\n",
    "app = Flask(__name__)\n",
    "\n",
    "configuration = Configuration(access_token=line_access_token)\n",
    "handler = WebhookHandler(line_secret)\n",
    "hotel_data = pd.read_csv('./Hotel_E_F.csv')\n",
    "food_data = pd.read_csv('./Taiwan_Food_5000.csv')\n",
    "attraction_data = pd.read_csv('./Taiwan_Attractions_5000.csv')\n",
    "# 使用者選擇的城市和地區紀錄\n",
    "user_city = {}\n",
    "user_state = {}\n",
    "ITEMS_PER_PAGE = 10\n",
    "cities = {\n",
    "    \"台北\": \"63\",\n",
    "    \"新北\": \"65\",\n",
    "    \"基隆\": \"10017\",\n",
    "    \"桃園\": \"68\",\n",
    "    \"新竹市\": \"10018\",\n",
    "    \"新竹縣\": \"10004\",\n",
    "    \"苗栗\": \"10005\",\n",
    "    \"台中\": \"66\",\n",
    "    \"彰化\": \"10007\",\n",
    "    \"南投\": \"10008\",\n",
    "    \"雲林\": \"10009\",\n",
    "    \"嘉義市\": \"10020\",\n",
    "    \"嘉義縣\": \"10010\",\n",
    "    \"台南\": \"67\",\n",
    "    \"高雄\": \"64\",\n",
    "    \"屏東\": \"10013\",\n",
    "    \"宜蘭\": \"10002\",\n",
    "    \"花蓮\": \"10015\",\n",
    "    \"台東\": \"10014\",\n",
    "    \"澎湖\": \"10016\",\n",
    "    \"金門\": \"09020\",\n",
    "    \"連江\": \"09007\"\n",
    "}\n",
    "\n",
    "def get_hotel_flex_message(hotels):\n",
    "    \"\"\"\n",
    "    使用 Flex Message 的方式回傳 Template\n",
    "    \"\"\"\n",
    "    columns = []\n",
    "    for index, row in hotels.iterrows():\n",
    "        bubble = {\n",
    "            \"type\": \"bubble\",\n",
    "            \"hero\": {\n",
    "                \"type\": \"image\",\n",
    "                \"url\": \"https://example.com/hotel.jpg\",\n",
    "                \"size\": \"full\",\n",
    "                \"aspectRatio\": \"20:13\",\n",
    "                \"aspectMode\": \"cover\"\n",
    "            },\n",
    "            \"body\": {\n",
    "                \"type\": \"box\",\n",
    "                \"layout\": \"vertical\",\n",
    "                \"contents\": [\n",
    "                    {\n",
    "                        \"type\": \"text\",\n",
    "                        \"text\": row['旅館名稱'],\n",
    "                        \"weight\": \"bold\",\n",
    "                        \"size\": \"lg\",\n",
    "                        \"margin\": \"md\"\n",
    "                    },\n",
    "                    {\n",
    "                        \"type\": \"text\",\n",
    "                        \"text\": f\"💰 {row['最低房價']} ~ {row['最高房價']} 元\",\n",
    "                        \"size\": \"sm\",\n",
    "                        \"color\": \"#555555\",\n",
    "                        \"wrap\": True\n",
    "                    },\n",
    "                    {\n",
    "                        \"type\": \"text\",\n",
    "                        \"text\": f\"📍 {row['地址']}\",\n",
    "                        \"size\": \"sm\",\n",
    "                        \"color\": \"#555555\",\n",
    "                        \"wrap\": True\n",
    "                    },\n",
    "                    {\n",
    "                        \"type\": \"button\",\n",
    "                        \"action\": {\n",
    "                            \"type\": \"message\",\n",
    "                            \"label\": \"📞 打電話\",\n",
    "                            \"text\": f\"撥打 {row['電話']}\"\n",
    "                        },\n",
    "                        \"style\": \"primary\",\n",
    "                        \"color\": \"#1DB446\",\n",
    "                        \"margin\": \"md\"\n",
    "                    }\n",
    "                ]\n",
    "            }\n",
    "        }\n",
    "        columns.append(bubble)\n",
    "        \n",
    "        # LINE Flex Message Carousel 最多 10 筆\n",
    "        if len(columns) == 10:\n",
    "            break\n",
    "\n",
    "    # 使用 Carousel Template 來顯示\n",
    "    if len(columns) > 0:\n",
    "        flex_message = FlexMessage(\n",
    "            alt_text=\"住宿資訊\",\n",
    "            contents={\n",
    "                \"type\": \"carousel\",\n",
    "                \"contents\": columns\n",
    "            }\n",
    "        )\n",
    "    else:\n",
    "        flex_message = None\n",
    "\n",
    "    return flex_message\n",
    "\n",
    "@app.route(\"/\", methods=['POST'])\n",
    "def callback():\n",
    "    signature = request.headers['X-Line-Signature']\n",
    "    body = request.get_data(as_text=True)\n",
    "    \n",
    "    try:\n",
    "        handler.handle(body, signature)\n",
    "    except InvalidSignatureError:\n",
    "        print(\"Invalid signature. Please check your channel access token/channel secret.\")\n",
    "        abort(400)\n",
    "    except Exception as e:\n",
    "        print(f\"Error: {e}\")\n",
    "        abort(400)\n",
    "        \n",
    "    return 'OK'\n",
    "\n",
    "# 處理文字訊息\n",
    "@handler.add(MessageEvent, message=TextMessageContent)\n",
    "def handle_message(event):\n",
    "    user_message = event.message.text.strip()\n",
    "    user_id = event.source.user_id\n",
    "\n",
    "    # 每次事件都初始化 API Client\n",
    "    with ApiClient(Configuration(access_token=line_access_token)) as api_client:\n",
    "        line_bot_api = MessagingApi(api_client)\n",
    "        if user_message == \"選擇城市\":\n",
    "            reply_text = (\n",
    "                \"請選擇想去的縣市：\\n台北、新北、基隆、桃園、新竹市、新竹縣、苗栗、台中、彰化、南投、雲林、嘉義市、嘉義縣、台南、高雄、屏東、宜蘭、花蓮、台東、澎湖、金門、連江\\n\"\n",
    "                \"格式：<城市> <地區>\\n例如：台北 士林區 或 桃園 中壢區\"\n",
    "            )\n",
    "        elif \" \" in user_message:\n",
    "            city, district = user_message.split(\" \", 1)\n",
    "            if city in cities:\n",
    "                user_city[user_id] = {\"city\": city, \"district\": district}\n",
    "                reply_text = f\"您已選擇城市：{city}，地區：{district}\\n接下來可以輸入「景點推薦」、「美食推薦」、「住宿資訊」或「即時資訊」來查詢資料。\"\n",
    "            else:\n",
    "                reply_text = \"無效的城市名稱，請重新輸入。\"    \n",
    "        elif user_message.startswith(\"住宿資訊\"):\n",
    "            if user_id in user_city:\n",
    "                city_info = user_city[user_id]\n",
    "        \n",
    "                city_hotels = hotel_data[(hotel_data['城市'] == city_info['district'])]\n",
    "\n",
    "                if not city_hotels.empty:\n",
    "                    flex_message = get_hotel_flex_message(city_hotels)\n",
    "\n",
    "                    # 回覆訊息\n",
    "                    if flex_message:\n",
    "                        reply_text = flex_message\n",
    "                    else:\n",
    "                        reply_text = \"找不到相關的住宿資訊。\"\n",
    "            \n",
    "                else:\n",
    "                    reply_text = f\"找不到 {city_info['city']} {city_info['district']} 的住宿資訊。\"\n",
    "            else:\n",
    "                reply_text = \"請先選擇一個城市和地區，再輸入「住宿資訊」。\"    \n",
    "        \n",
    "        \n",
    "        line_bot_api.reply_message(\n",
    "            ReplyMessageRequest(\n",
    "                reply_token=event.reply_token,\n",
    "                messages=[TextMessage(text=reply_text)]\n",
    "            )\n",
    "        )\n",
    "\n",
    "if __name__ == \"__main__\":\n",
    "    app.run(port=5000)"
   ]
  }
 ],
 "metadata": {
  "kernelspec": {
   "display_name": "linebot",
   "language": "python",
   "name": "python3"
  },
  "language_info": {
   "codemirror_mode": {
    "name": "ipython",
    "version": 3
   },
   "file_extension": ".py",
   "mimetype": "text/x-python",
   "name": "python",
   "nbconvert_exporter": "python",
   "pygments_lexer": "ipython3",
   "version": "3.12.7"
  }
 },
 "nbformat": 4,
 "nbformat_minor": 5
}
